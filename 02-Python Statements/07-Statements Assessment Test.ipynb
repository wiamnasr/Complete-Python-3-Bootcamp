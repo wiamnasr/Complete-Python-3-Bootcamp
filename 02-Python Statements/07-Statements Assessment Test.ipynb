{
 "cells": [
  {
   "cell_type": "markdown",
   "metadata": {},
   "source": [
    "___\n",
    "\n",
    "<a href='https://www.udemy.com/user/joseportilla/'><img src='../Pierian_Data_Logo.png'/></a>\n",
    "___\n",
    "<center><em>Content Copyright by Pierian Data</em></center>"
   ]
  },
  {
   "cell_type": "markdown",
   "metadata": {
    "collapsed": true
   },
   "source": [
    "# Statements Assessment Test\n",
    "Let's test your knowledge!"
   ]
  },
  {
   "cell_type": "markdown",
   "metadata": {},
   "source": [
    "_____\n",
    "**Use <code>for</code>, .split(), and <code>if</code> to create a Statement that will print out words that start with 's':**"
   ]
  },
  {
   "cell_type": "code",
   "execution_count": 5,
   "metadata": {},
   "outputs": [],
   "source": [
    "st = 'Print only the words that start with s in this sentence'"
   ]
  },
  {
   "cell_type": "code",
   "execution_count": 20,
   "metadata": {},
   "outputs": [
    {
     "name": "stdout",
     "output_type": "stream",
     "text": [
      "start\n",
      "s\n",
      "sentence\n"
     ]
    }
   ],
   "source": [
    "#Code here\n",
    "newlist = st.split()\n",
    "for i in newlist:\n",
    "    if i[0] == 's':\n",
    "        print(i)\n"
   ]
  },
  {
   "cell_type": "markdown",
   "metadata": {},
   "source": [
    "______\n",
    "**Use range() to print all the even numbers from 0 to 10.**"
   ]
  },
  {
   "cell_type": "code",
   "execution_count": 16,
   "metadata": {},
   "outputs": [
    {
     "name": "stdout",
     "output_type": "stream",
     "text": [
      "0\n",
      "2\n",
      "4\n",
      "6\n",
      "8\n",
      "10\n"
     ]
    }
   ],
   "source": [
    "#Code Here\n",
    "for num in range(11):\n",
    "    if num%2 == 0:\n",
    "        print(num)"
   ]
  },
  {
   "cell_type": "markdown",
   "metadata": {},
   "source": [
    "___\n",
    "**Use a List Comprehension to create a list of all numbers between 1 and 50 that are divisible by 3.**"
   ]
  },
  {
   "cell_type": "code",
   "execution_count": 19,
   "metadata": {},
   "outputs": [
    {
     "data": {
      "text/plain": [
       "[3, 6, 9, 12, 15, 18, 21, 24, 27, 30, 33, 36, 39, 42, 45, 48]"
      ]
     },
     "execution_count": 19,
     "metadata": {},
     "output_type": "execute_result"
    }
   ],
   "source": [
    "#Code in this cell\n",
    "myList = [num for num in range(1,50) if num%3 == 0]\n",
    "myList"
   ]
  },
  {
   "cell_type": "markdown",
   "metadata": {},
   "source": [
    "_____\n",
    "**Go through the string below and if the length of a word is even print \"even!\"**"
   ]
  },
  {
   "cell_type": "code",
   "execution_count": 39,
   "metadata": {},
   "outputs": [],
   "source": [
    "st = 'Print every word in this sentence that has an even number of letters'"
   ]
  },
  {
   "cell_type": "code",
   "execution_count": 40,
   "metadata": {},
   "outputs": [
    {
     "data": {
      "text/plain": [
       "['word', 'in', 'this', 'sentence', 'that', 'an', 'even', 'number', 'of']"
      ]
     },
     "execution_count": 40,
     "metadata": {},
     "output_type": "execute_result"
    }
   ],
   "source": [
    "#Code in this cell\n",
    "myList = st.split()\n",
    "newList = [word for word in myList if len(word)%2 == 0]\n",
    "newList"
   ]
  },
  {
   "cell_type": "markdown",
   "metadata": {},
   "source": [
    "____\n",
    "**Write a program that prints the integers from 1 to 100. But for multiples of three print \"Fizz\" instead of the number, and for the multiples of five print \"Buzz\". For numbers which are multiples of both three and five print \"FizzBuzz\".**"
   ]
  },
  {
   "cell_type": "code",
   "execution_count": 57,
   "metadata": {},
   "outputs": [
    {
     "name": "stdout",
     "output_type": "stream",
     "text": [
      "None\n",
      "None\n",
      "Fizz\n",
      "None\n",
      "Buzz\n",
      "Fizz\n",
      "None\n",
      "None\n",
      "Fizz\n",
      "Buzz\n",
      "None\n",
      "Fizz\n",
      "None\n",
      "None\n",
      "FizzBuzz\n",
      "None\n",
      "None\n",
      "Fizz\n",
      "None\n",
      "Buzz\n",
      "Fizz\n",
      "None\n",
      "None\n",
      "Fizz\n",
      "Buzz\n",
      "None\n",
      "Fizz\n",
      "None\n",
      "None\n",
      "FizzBuzz\n",
      "None\n",
      "None\n",
      "Fizz\n",
      "None\n",
      "Buzz\n",
      "Fizz\n",
      "None\n",
      "None\n",
      "Fizz\n",
      "Buzz\n",
      "None\n",
      "Fizz\n",
      "None\n",
      "None\n",
      "FizzBuzz\n",
      "None\n",
      "None\n",
      "Fizz\n",
      "None\n",
      "Buzz\n",
      "Fizz\n",
      "None\n",
      "None\n",
      "Fizz\n",
      "Buzz\n",
      "None\n",
      "Fizz\n",
      "None\n",
      "None\n",
      "FizzBuzz\n",
      "None\n",
      "None\n",
      "Fizz\n",
      "None\n",
      "Buzz\n",
      "Fizz\n",
      "None\n",
      "None\n",
      "Fizz\n",
      "Buzz\n",
      "None\n",
      "Fizz\n",
      "None\n",
      "None\n",
      "FizzBuzz\n",
      "None\n",
      "None\n",
      "Fizz\n",
      "None\n",
      "Buzz\n",
      "Fizz\n",
      "None\n",
      "None\n",
      "Fizz\n",
      "Buzz\n",
      "None\n",
      "Fizz\n",
      "None\n",
      "None\n",
      "FizzBuzz\n",
      "None\n",
      "None\n",
      "Fizz\n",
      "None\n",
      "Buzz\n",
      "Fizz\n",
      "None\n",
      "None\n",
      "Fizz\n",
      "Fizz\n"
     ]
    }
   ],
   "source": [
    "#Code in this cell\n",
    "for num in range(1,100):\n",
    "    if num%3 == 0 and num%5 == 0:\n",
    "        print('FizzBuzz')\n",
    "    elif num%3 == 0:\n",
    "        print('Fizz')\n",
    "    elif num%5 == 0:\n",
    "        print('Buzz')\n",
    "     \n",
    "    else:\n",
    "        print(\"None\")\n",
    "        \n",
    "solution2 = [print('FizzBuzz') if num%3 == 0 and num%5 == 0 else print('Fizz') if num%3 == 0 else print('Buzz') if num%5 == 0 else print(\"None\")]"
   ]
  },
  {
   "cell_type": "markdown",
   "metadata": {},
   "source": [
    "____\n",
    "**Use List Comprehension to create a list of the first letters of every word in the string below:**"
   ]
  },
  {
   "cell_type": "code",
   "execution_count": 58,
   "metadata": {},
   "outputs": [],
   "source": [
    "st = 'Create a list of the first letters of every word in this string'"
   ]
  },
  {
   "cell_type": "code",
   "execution_count": 74,
   "metadata": {},
   "outputs": [
    {
     "name": "stdout",
     "output_type": "stream",
     "text": [
      "['C']\n",
      "['a']\n",
      "['l']\n",
      "['o']\n",
      "['t']\n",
      "['f']\n",
      "['l']\n",
      "['o']\n",
      "['e']\n",
      "['w']\n",
      "['i']\n",
      "['t']\n",
      "['s']\n"
     ]
    }
   ],
   "source": [
    "#Code in this cell\n",
    "\n",
    "myList = st.split()\n",
    "myList\n",
    "\n",
    "for letters in myList:\n",
    "    firstLettersList = letters[0]\n",
    "    print(list(firstLettersList))\n",
    "        "
   ]
  },
  {
   "cell_type": "markdown",
   "metadata": {},
   "source": [
    "### Great Job!"
   ]
  }
 ],
 "metadata": {
  "kernelspec": {
   "display_name": "Python 3",
   "language": "python",
   "name": "python3"
  },
  "language_info": {
   "codemirror_mode": {
    "name": "ipython",
    "version": 3
   },
   "file_extension": ".py",
   "mimetype": "text/x-python",
   "name": "python",
   "nbconvert_exporter": "python",
   "pygments_lexer": "ipython3",
   "version": "3.8.8"
  }
 },
 "nbformat": 4,
 "nbformat_minor": 1
}
