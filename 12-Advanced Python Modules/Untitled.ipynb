{
 "cells": [
  {
   "cell_type": "code",
   "execution_count": 1,
   "id": "f7e34d0f",
   "metadata": {},
   "outputs": [
    {
     "data": {
      "text/plain": [
       "'/home/codeyourfuture/Documents/GitHub/Complete-Python-3-Bootcamp/12-Advanced Python Modules'"
      ]
     },
     "execution_count": 1,
     "metadata": {},
     "output_type": "execute_result"
    }
   ],
   "source": [
    "pwd"
   ]
  },
  {
   "cell_type": "code",
   "execution_count": 37,
   "id": "615afb25",
   "metadata": {},
   "outputs": [],
   "source": [
    "#create a practice file\n",
    "\n",
    "f = open('practice.txt','w+')\n",
    "f.write('This is a test string')\n",
    "f.close()"
   ]
  },
  {
   "cell_type": "code",
   "execution_count": 38,
   "id": "0ec59c34",
   "metadata": {},
   "outputs": [
    {
     "data": {
      "text/plain": [
       "'/home/codeyourfuture/Documents/GitHub/Complete-Python-3-Bootcamp/12-Advanced Python Modules'"
      ]
     },
     "execution_count": 38,
     "metadata": {},
     "output_type": "execute_result"
    }
   ],
   "source": [
    "# how to use the os module?\n",
    "\n",
    "import os\n",
    "#will work within any python script:\n",
    "os.getcwd()"
   ]
  },
  {
   "cell_type": "code",
   "execution_count": 39,
   "id": "f4d1b7ae",
   "metadata": {},
   "outputs": [
    {
     "data": {
      "text/plain": [
       "['00-Collections-Module.ipynb',\n",
       " '06-Timing your code - timeit.ipynb',\n",
       " '08-Advanced-Python-Module-Exercise',\n",
       " '04-Python Debugger (pdb).ipynb',\n",
       " '01-Opening-and-Reading-Files-Folders.ipynb',\n",
       " '07-Unzipping-and-Zipping-Files.ipynb',\n",
       " 'practice.text',\n",
       " '02-Datetime-Module.ipynb',\n",
       " 'Example_Top_Level',\n",
       " '.ipynb_checkpoints',\n",
       " '05-Overview-of-Regular-Expressions.ipynb',\n",
       " '03-Math-and-Random-Module.ipynb',\n",
       " 'practice.txt',\n",
       " 'Untitled.ipynb']"
      ]
     },
     "execution_count": 39,
     "metadata": {},
     "output_type": "execute_result"
    }
   ],
   "source": [
    "#list items in current directory:\n",
    "os.listdir()"
   ]
  },
  {
   "cell_type": "code",
   "execution_count": 61,
   "id": "cea0ff1c",
   "metadata": {},
   "outputs": [
    {
     "data": {
      "text/plain": [
       "'/home/codeyourfuture/Documents/GitHub/Complete-Python-3-Bootcamp/12-Advanced Python Modules'"
      ]
     },
     "execution_count": 61,
     "metadata": {},
     "output_type": "execute_result"
    }
   ],
   "source": [
    "os.getcwd()"
   ]
  },
  {
   "cell_type": "code",
   "execution_count": 40,
   "id": "98dbbafd",
   "metadata": {},
   "outputs": [
    {
     "data": {
      "text/plain": [
       "['GitHub',\n",
       " 'JavaScript',\n",
       " 'Python',\n",
       " '.ipynb_checkpoints',\n",
       " 'oh-my-git-linux',\n",
       " 'Linkedin Learning',\n",
       " 'oh-my-git-linux.zip',\n",
       " 'Content',\n",
       " 'WM3']"
      ]
     },
     "execution_count": 40,
     "metadata": {},
     "output_type": "execute_result"
    }
   ],
   "source": [
    "#list items in another directory:\n",
    "#takes the argument of path as string and lists all the items there\n",
    "\n",
    "\n",
    "os.listdir('/home/codeyourfuture/Documents')\n",
    "\n",
    "# this is very useful if you wanted to have a for loop to open up all the files in a directory\n",
    "#later on we'll see how to do this in a more robust manner through OS walk"
   ]
  },
  {
   "cell_type": "code",
   "execution_count": 41,
   "id": "69235ed0",
   "metadata": {},
   "outputs": [],
   "source": [
    "'''\n",
    "How to move files around?\n",
    "\n",
    "will use the show utilities module (shutil)\n",
    "'''\n",
    "\n",
    "import shutil\n",
    "#2 param. src=> source and dst=> destination } ---> Take this source and move it to the destination\n",
    "# always make sure that you have necessary permissions on your computer\n",
    "\n",
    "\n"
   ]
  },
  {
   "cell_type": "code",
   "execution_count": 42,
   "id": "aea2c954",
   "metadata": {},
   "outputs": [
    {
     "data": {
      "text/plain": [
       "'/home/codeyourfuture/Documents/Python/practice.txt'"
      ]
     },
     "execution_count": 42,
     "metadata": {},
     "output_type": "execute_result"
    }
   ],
   "source": [
    "shutil.move('practice.txt','/home/codeyourfuture/Documents/Python')"
   ]
  },
  {
   "cell_type": "code",
   "execution_count": 44,
   "id": "f2cb00cb",
   "metadata": {},
   "outputs": [
    {
     "data": {
      "text/plain": [
       "['Object Oriented Programming.ipynb',\n",
       " 'testfile',\n",
       " 'BlackJack Game Milestone Project2.ipynb',\n",
       " 'Section 14) Advanced Python Modules.ipynb',\n",
       " 'safsdfga.txt',\n",
       " 'myfirstnotebook.ipynb',\n",
       " 'Section 11 Milestone Project (Card Game WAR).ipynb',\n",
       " 'python-Comparison_Operators-Statements.ipynb',\n",
       " '.ipynb_checkpoints',\n",
       " 'myfile.txt',\n",
       " 'Warm Up Projects Notes.ipynb',\n",
       " '9) Modules and Packages && 10) Errors and Exceptions Handling.ipynb',\n",
       " 'myexample.py',\n",
       " 'FIX Milestone Project 1 - Tic Tac Toe Game.ipynb',\n",
       " 'Section 13 Python Generators.ipynb',\n",
       " 'Section 12 Python Decorators.ipynb',\n",
       " 'myNewFile.txt',\n",
       " 'practice.txt',\n",
       " 'Methods-and-Functions-in-Python.ipynb']"
      ]
     },
     "execution_count": 44,
     "metadata": {},
     "output_type": "execute_result"
    }
   ],
   "source": [
    "os.listdir('/home/codeyourfuture/Documents/Python')"
   ]
  },
  {
   "cell_type": "code",
   "execution_count": 45,
   "id": "c4c14a7f",
   "metadata": {},
   "outputs": [],
   "source": [
    "#OS has a lot of functionality available on it\n",
    "# as you get more advanced you find yourself wanting to do more things with it\n",
    "# check out oc.+TAB for those\n",
    "\n"
   ]
  },
  {
   "cell_type": "code",
   "execution_count": 54,
   "id": "8759283b",
   "metadata": {},
   "outputs": [
    {
     "data": {
      "text/plain": [
       "'\\n Deleting files with OS \\n 3methods:\\n \\n \\n     1) os.unlink(path)\\n         > deletes a file at the path you provide \\n     \\n     2) os.rmdir(path)\\n         > deletes a folder (folder must be empty) at the provided path\\n     \\n     3) shutil.rmtree(path)\\n         > most dangerous, will remove all files and folders contained in the path\\n         \\n         \\n     ALL OF THESE METHODS CANNOT BE REVERSED!\\n     \\n     > Meaning if you make a mistake you wont be able to recover the file\\n     \\n     We will use the send2trash module. A safer alternative that sends deleted files to the trash bin instead of permanent removal\\n     \\n     Install the send2trash module with \"pip install send2trash\" at your command line\\n     \\n     \\n'"
      ]
     },
     "execution_count": 54,
     "metadata": {},
     "output_type": "execute_result"
    }
   ],
   "source": [
    "'''\n",
    " Deleting files with OS \n",
    " 3methods:\n",
    " \n",
    " \n",
    "     1) os.unlink(path)\n",
    "         > deletes a file at the path you provide \n",
    "     \n",
    "     2) os.rmdir(path)\n",
    "         > deletes a folder (folder must be empty) at the provided path\n",
    "     \n",
    "     3) shutil.rmtree(path)\n",
    "         > most dangerous, will remove all files and folders contained in the path\n",
    "         \n",
    "         \n",
    "     ALL OF THESE METHODS CANNOT BE REVERSED!\n",
    "     \n",
    "     > Meaning if you make a mistake you wont be able to recover the file\n",
    "     \n",
    "     We will use the send2trash module. A safer alternative that sends deleted files to the trash bin instead of permanent removal\n",
    "     \n",
    "     Install the send2trash module with \"pip install send2trash\" at your command line\n",
    "     \n",
    "     \n",
    "'''\n"
   ]
  },
  {
   "cell_type": "code",
   "execution_count": 55,
   "id": "68483732",
   "metadata": {},
   "outputs": [
    {
     "data": {
      "text/plain": [
       "['00-Collections-Module.ipynb',\n",
       " '06-Timing your code - timeit.ipynb',\n",
       " '08-Advanced-Python-Module-Exercise',\n",
       " '04-Python Debugger (pdb).ipynb',\n",
       " '01-Opening-and-Reading-Files-Folders.ipynb',\n",
       " '07-Unzipping-and-Zipping-Files.ipynb',\n",
       " '02-Datetime-Module.ipynb',\n",
       " 'Example_Top_Level',\n",
       " '.ipynb_checkpoints',\n",
       " '05-Overview-of-Regular-Expressions.ipynb',\n",
       " '03-Math-and-Random-Module.ipynb',\n",
       " 'Untitled.ipynb']"
      ]
     },
     "execution_count": 55,
     "metadata": {},
     "output_type": "execute_result"
    }
   ],
   "source": [
    "import send2trash\n",
    "os.listdir()"
   ]
  },
  {
   "cell_type": "code",
   "execution_count": 57,
   "id": "2c25456c",
   "metadata": {},
   "outputs": [
    {
     "data": {
      "text/plain": [
       "'/home/codeyourfuture/Documents/GitHub/Complete-Python-3-Bootcamp/12-Advanced Python Modules/practice.txt'"
      ]
     },
     "execution_count": 57,
     "metadata": {},
     "output_type": "execute_result"
    }
   ],
   "source": [
    "shutil.move('/home/codeyourfuture/Documents/Python/practice.txt', os.getcwd())"
   ]
  },
  {
   "cell_type": "code",
   "execution_count": 58,
   "id": "22686614",
   "metadata": {},
   "outputs": [
    {
     "data": {
      "text/plain": [
       "['00-Collections-Module.ipynb',\n",
       " '06-Timing your code - timeit.ipynb',\n",
       " '08-Advanced-Python-Module-Exercise',\n",
       " '04-Python Debugger (pdb).ipynb',\n",
       " '01-Opening-and-Reading-Files-Folders.ipynb',\n",
       " '07-Unzipping-and-Zipping-Files.ipynb',\n",
       " '02-Datetime-Module.ipynb',\n",
       " 'Example_Top_Level',\n",
       " '.ipynb_checkpoints',\n",
       " '05-Overview-of-Regular-Expressions.ipynb',\n",
       " '03-Math-and-Random-Module.ipynb',\n",
       " 'practice.txt',\n",
       " 'Untitled.ipynb']"
      ]
     },
     "execution_count": 58,
     "metadata": {},
     "output_type": "execute_result"
    }
   ],
   "source": [
    "os.listdir()"
   ]
  },
  {
   "cell_type": "code",
   "execution_count": 59,
   "id": "c771ceac",
   "metadata": {},
   "outputs": [],
   "source": [
    "send2trash.send2trash('practice.txt')"
   ]
  },
  {
   "cell_type": "code",
   "execution_count": 60,
   "id": "7e1b3e71",
   "metadata": {},
   "outputs": [
    {
     "data": {
      "text/plain": [
       "['00-Collections-Module.ipynb',\n",
       " '06-Timing your code - timeit.ipynb',\n",
       " '08-Advanced-Python-Module-Exercise',\n",
       " '04-Python Debugger (pdb).ipynb',\n",
       " '01-Opening-and-Reading-Files-Folders.ipynb',\n",
       " '07-Unzipping-and-Zipping-Files.ipynb',\n",
       " '02-Datetime-Module.ipynb',\n",
       " 'Example_Top_Level',\n",
       " '.ipynb_checkpoints',\n",
       " '05-Overview-of-Regular-Expressions.ipynb',\n",
       " '03-Math-and-Random-Module.ipynb',\n",
       " 'Untitled.ipynb']"
      ]
     },
     "execution_count": 60,
     "metadata": {},
     "output_type": "execute_result"
    }
   ],
   "source": [
    "os.listdir()"
   ]
  },
  {
   "cell_type": "code",
   "execution_count": null,
   "id": "9a5a8df7",
   "metadata": {},
   "outputs": [],
   "source": []
  },
  {
   "cell_type": "code",
   "execution_count": null,
   "id": "b70fc6ba",
   "metadata": {},
   "outputs": [],
   "source": []
  },
  {
   "cell_type": "code",
   "execution_count": 65,
   "id": "9ede4179",
   "metadata": {},
   "outputs": [
    {
     "name": "stdout",
     "output_type": "stream",
     "text": [
      "\t Currently looking at /home/codeyourfuture/Documents/GitHub/Complete-Python-3-Bootcamp/12-Advanced Python Modules/Example_Top_Level\n",
      "\n",
      "\n",
      "The subfolders are: \n",
      "\t Subfolder: Mid-Example-One\n",
      "\n",
      "\n",
      "The files are: \n",
      "\t File: Mid-Example.txt\n",
      "\n",
      "\n",
      "\t Currently looking at /home/codeyourfuture/Documents/GitHub/Complete-Python-3-Bootcamp/12-Advanced Python Modules/Example_Top_Level/Mid-Example-One\n",
      "\n",
      "\n",
      "The subfolders are: \n",
      "\t Subfolder: Bottom-Level-Two\n",
      "\t Subfolder: Bottom-Level-One\n",
      "\n",
      "\n",
      "The files are: \n",
      "\t File: Mid-Level-Doc.txt\n",
      "\n",
      "\n",
      "\t Currently looking at /home/codeyourfuture/Documents/GitHub/Complete-Python-3-Bootcamp/12-Advanced Python Modules/Example_Top_Level/Mid-Example-One/Bottom-Level-Two\n",
      "\n",
      "\n",
      "The subfolders are: \n",
      "\n",
      "\n",
      "The files are: \n",
      "\t File: Bottom-Text-Two.txt\n",
      "\n",
      "\n",
      "\t Currently looking at /home/codeyourfuture/Documents/GitHub/Complete-Python-3-Bootcamp/12-Advanced Python Modules/Example_Top_Level/Mid-Example-One/Bottom-Level-One\n",
      "\n",
      "\n",
      "The subfolders are: \n",
      "\n",
      "\n",
      "The files are: \n",
      "\t File: One_Text.txt\n",
      "\n",
      "\n"
     ]
    }
   ],
   "source": [
    "# os.walk => important\n",
    "# Directory tree generator\n",
    "# for each director in directory tree, rooted at the top, it will yield a tuple\n",
    "# dirpath, dirnames, filenames => apply tuple unpacking\n",
    "\n",
    "file_path = '/home/codeyourfuture/Documents/GitHub/Complete-Python-3-Bootcamp/12-Advanced Python Modules/Example_Top_Level'\n",
    "for folder, sub_folders, files in os.walk(file_path):\n",
    "    \n",
    "    print(f\"\\t Currently looking at {folder}\")\n",
    "    print('\\n')\n",
    "    print(\"The subfolders are: \")\n",
    "    for sub_fold in sub_folders:\n",
    "        print(f\"\\t Subfolder: {sub_fold}\")\n",
    "    print('\\n')\n",
    "    print(\"The files are: \")\n",
    "    for f in files:\n",
    "        print(f\"\\t File: {f}\")\n",
    "    print('\\n')"
   ]
  },
  {
   "cell_type": "code",
   "execution_count": null,
   "id": "94a5c61b",
   "metadata": {},
   "outputs": [],
   "source": []
  },
  {
   "cell_type": "code",
   "execution_count": null,
   "id": "71b39891",
   "metadata": {},
   "outputs": [],
   "source": []
  },
  {
   "cell_type": "code",
   "execution_count": null,
   "id": "ab6ef59a",
   "metadata": {},
   "outputs": [],
   "source": []
  },
  {
   "cell_type": "code",
   "execution_count": null,
   "id": "63db902d",
   "metadata": {},
   "outputs": [],
   "source": []
  },
  {
   "cell_type": "code",
   "execution_count": null,
   "id": "b6e2e745",
   "metadata": {},
   "outputs": [],
   "source": []
  },
  {
   "cell_type": "code",
   "execution_count": null,
   "id": "61edaaf8",
   "metadata": {},
   "outputs": [],
   "source": []
  },
  {
   "cell_type": "code",
   "execution_count": null,
   "id": "96df2bfa",
   "metadata": {},
   "outputs": [],
   "source": []
  }
 ],
 "metadata": {
  "kernelspec": {
   "display_name": "Python 3",
   "language": "python",
   "name": "python3"
  },
  "language_info": {
   "codemirror_mode": {
    "name": "ipython",
    "version": 3
   },
   "file_extension": ".py",
   "mimetype": "text/x-python",
   "name": "python",
   "nbconvert_exporter": "python",
   "pygments_lexer": "ipython3",
   "version": "3.8.8"
  }
 },
 "nbformat": 4,
 "nbformat_minor": 5
}
